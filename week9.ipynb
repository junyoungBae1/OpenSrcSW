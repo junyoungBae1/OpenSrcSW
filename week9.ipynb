{
 "cells": [
  {
   "cell_type": "code",
   "execution_count": 8,
   "id": "ffa2056c",
   "metadata": {},
   "outputs": [
    {
     "name": "stdout",
     "output_type": "stream",
     "text": [
      "7 시간 36 분\n"
     ]
    }
   ],
   "source": [
    "a= 456\n",
    "h = a/60\n",
    "m = a%60\n",
    "\n",
    "print(int(h),\"시간\",m,\"분\")"
   ]
  },
  {
   "cell_type": "code",
   "execution_count": 13,
   "id": "d8aa3bb1",
   "metadata": {},
   "outputs": [
    {
     "name": "stdout",
     "output_type": "stream",
     "text": [
      "['김철수', '이영희', '임꺽정', '홍길동']\n",
      "김철수 2.8\n"
     ]
    }
   ],
   "source": [
    "d={'홍길동':3.4,'임꺽정':4.0,'김철수':2.8,'이영희':3.9}\n",
    "k=d.keys()\n",
    "k_list=list(k)\n",
    "k_list.sort()\n",
    "print(k_list)\n",
    "\n",
    "key = k_list[0]\n",
    "value = d[key]\n",
    "print(key,value)"
   ]
  }
 ],
 "metadata": {
  "kernelspec": {
   "display_name": "Python 3 (ipykernel)",
   "language": "python",
   "name": "python3"
  },
  "language_info": {
   "codemirror_mode": {
    "name": "ipython",
    "version": 3
   },
   "file_extension": ".py",
   "mimetype": "text/x-python",
   "name": "python",
   "nbconvert_exporter": "python",
   "pygments_lexer": "ipython3",
   "version": "3.7.2"
  }
 },
 "nbformat": 4,
 "nbformat_minor": 5
}
